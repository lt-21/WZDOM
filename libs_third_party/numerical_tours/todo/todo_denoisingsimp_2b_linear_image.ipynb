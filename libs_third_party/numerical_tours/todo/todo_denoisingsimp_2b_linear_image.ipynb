{
  "metadata": {
    "name": ""
  },
  "nbformat": 3,
  "nbformat_minor": 0,
  "worksheets": [
    {
      "cells": [
        {
          "cell_type": "markdown",
          "metadata": {},
          "source": [
            "Linear Sigal Denoising",
            "======================",
            "$\\newcommand{\\dotp}[2]{\\langle #1, #2 \\rangle}",
            "\\newcommand{\\enscond}[2]{\\lbrace #1, #2 \\rbrace}",
            "\\newcommand{\\pd}[2]{ \\frac{ \\partial #1}{\\partial #2} }",
            "\\newcommand{\\umin}[1]{\\underset{#1}{\\min}\\;}",
            "\\newcommand{\\umax}[1]{\\underset{#1}{\\max}\\;}",
            "\\newcommand{\\umin}[1]{\\underset{#1}{\\min}\\;}",
            "\\newcommand{\\uargmin}[1]{\\underset{#1}{argmin}\\;}",
            "\\newcommand{\\norm}[1]{\\|#1\\|}",
            "\\newcommand{\\abs}[1]{\\left|#1\\right|}",
            "\\newcommand{\\choice}[1]{ \\left\\{  \\begin{array}{l} #1 \\end{array} \\right. }",
            "\\newcommand{\\pa}[1]{\\left(#1\\right)}",
            "\\newcommand{\\diag}[1]{{diag}\\left( #1 \\right)}",
            "\\newcommand{\\qandq}{\\quad\\text{and}\\quad}",
            "\\newcommand{\\qwhereq}{\\quad\\text{where}\\quad}",
            "\\newcommand{\\qifq}{ \\quad \\text{if} \\quad }",
            "\\newcommand{\\qarrq}{ \\quad \\Longrightarrow \\quad }",
            "\\newcommand{\\ZZ}{\\mathbb{Z}}",
            "\\newcommand{\\CC}{\\mathbb{C}}",
            "\\newcommand{\\RR}{\\mathbb{R}}",
            "\\newcommand{\\EE}{\\mathbb{E}}",
            "\\newcommand{\\Zz}{\\mathcal{Z}}",
            "\\newcommand{\\Ww}{\\mathcal{W}}",
            "\\newcommand{\\Vv}{\\mathcal{V}}",
            "\\newcommand{\\Nn}{\\mathcal{N}}",
            "\\newcommand{\\NN}{\\mathcal{N}}",
            "\\newcommand{\\Hh}{\\mathcal{H}}",
            "\\newcommand{\\Bb}{\\mathcal{B}}",
            "\\newcommand{\\Ee}{\\mathcal{E}}",
            "\\newcommand{\\Cc}{\\mathcal{C}}",
            "\\newcommand{\\Gg}{\\mathcal{G}}",
            "\\newcommand{\\Ss}{\\mathcal{S}}",
            "\\newcommand{\\Pp}{\\mathcal{P}}",
            "\\newcommand{\\Ff}{\\mathcal{F}}",
            "\\newcommand{\\Xx}{\\mathcal{X}}",
            "\\newcommand{\\Mm}{\\mathcal{M}}",
            "\\newcommand{\\Ii}{\\mathcal{I}}",
            "\\newcommand{\\Dd}{\\mathcal{D}}",
            "\\newcommand{\\Ll}{\\mathcal{L}}",
            "\\newcommand{\\Tt}{\\mathcal{T}}",
            "\\newcommand{\\si}{\\sigma}",
            "\\newcommand{\\al}{\\alpha}",
            "\\newcommand{\\la}{\\lambda}",
            "\\newcommand{\\ga}{\\gamma}",
            "\\newcommand{\\Ga}{\\Gamma}",
            "\\newcommand{\\La}{\\Lambda}",
            "\\newcommand{\\si}{\\sigma}",
            "\\newcommand{\\Si}{\\Sigma}",
            "\\newcommand{\\be}{\\beta}",
            "\\newcommand{\\de}{\\delta}",
            "\\newcommand{\\De}{\\Delta}",
            "\\renewcommand{\\phi}{\\varphi}",
            "\\renewcommand{\\th}{\\theta}",
            "\\newcommand{\\om}{\\omega}",
            "\\newcommand{\\Om}{\\Omega}",
            "$"
          ]
        },
        {
          "cell_type": "markdown",
          "metadata": {},
          "source": [
            "This numerical tour introduces basic image denoising methods."
          ]
        },
        {
          "cell_type": "code",
          "collapsed": false,
          "input": [
            "%load_ext pymatbridge"
          ],
          "language": "python",
          "metadata": {},
          "outputs": []
        },
        {
          "cell_type": "code",
          "collapsed": false,
          "input": [
            "%%matlab",
            "addpath('toolbox_signal')",
            "addpath('toolbox_general')",
            "addpath('solutions/todo_denoisingsimp_2b_linear_image')"
          ],
          "language": "python",
          "metadata": {},
          "outputs": []
        },
        {
          "cell_type": "markdown",
          "metadata": {},
          "source": [
            "Installation",
            "------------",
            "You need to download [numerical_tours](https://github.com/gpeyre/numerical-tours/archive/master.zip)",
            "and install the IPython [notebook](http://ipython.org/install.html) to run the code.",
            "",
            "You must also install the [python-matlab-bridge](http://arokem.github.io/python-matlab-bridge/)."
          ]
        },
        {
          "cell_type": "markdown",
          "metadata": {},
          "source": [
            "Noisy Signal Formation",
            "----------------------",
            "In these numerical tour, we simulate noisy acquisition by adding some",
            "white noise (each pixel is corrupted by adding an independant Gaussian",
            "variable).",
            "",
            "",
            "This is useful to test in an oracle maner the performance of our methods.",
            "",
            "",
            "Length $N$ of the signal."
          ]
        },
        {
          "cell_type": "code",
          "collapsed": false,
          "input": [
            "%%matlab",
            "N = 1024;"
          ],
          "language": "python",
          "metadata": {},
          "outputs": []
        },
        {
          "cell_type": "markdown",
          "metadata": {},
          "source": [
            "We load a clean signal $x_0 \\in \\RR^N$."
          ]
        },
        {
          "cell_type": "code",
          "collapsed": false,
          "input": [
            "%%matlab",
            "name = 'piece-regular';",
            "x0 = rescale( load_signal(name,N) );"
          ],
          "language": "python",
          "metadata": {},
          "outputs": []
        },
        {
          "cell_type": "markdown",
          "metadata": {},
          "source": [
            "We add some noise to it to obtain the noisy signal $x = x_0 + w$.",
            "Here $w$ is a realization of a Gaussian white noise of variance",
            "$\\si^2$."
          ]
        },
        {
          "cell_type": "code",
          "collapsed": false,
          "input": [
            "%%matlab",
            "sigma = .04; % noise level",
            "x = x0 + sigma*randn(size(x0));",
            "clf;",
            "subplot(2,1,1);",
            "plot(x0); axis([1 N -.05 1.05]);",
            "subplot(2,1,2);",
            "plot(x); axis([1 N -.05 1.05]);"
          ],
          "language": "python",
          "metadata": {},
          "outputs": []
        },
        {
          "cell_type": "markdown",
          "metadata": {},
          "source": [
            "We load an image."
          ]
        },
        {
          "cell_type": "code",
          "collapsed": false,
          "input": [
            "%%matlab",
            "N = 256;",
            "name = 'hibiscus';",
            "M0 = load_image(name,N);",
            "M0 = rescale( sum(M0,3) );"
          ],
          "language": "python",
          "metadata": {},
          "outputs": []
        },
        {
          "cell_type": "markdown",
          "metadata": {},
          "source": [
            "Then we add some gaussian noise to it."
          ]
        },
        {
          "cell_type": "code",
          "collapsed": false,
          "input": [
            "%%matlab",
            "sigma = .08; % noise level",
            "M = M0 + sigma*randn(size(M0));",
            "clf;",
            "imageplot(M0, 'Original', 1,2,1);",
            "imageplot(clamp(M), 'Noisy', 1,2,2);"
          ],
          "language": "python",
          "metadata": {},
          "outputs": []
        },
        {
          "cell_type": "markdown",
          "metadata": {},
          "source": [
            "Linear Signal Denoising",
            "-----------------------",
            "A translation invariant linear denoising is necessarely a convolution",
            "with a kernel |h|. It correspond to a linear diagonal operation over the",
            "Fourier domain that multiply each noisy Fourier coefficient by the",
            "Fourier transform of |h|.",
            "",
            "",
            "In practice, one uses a Gaussian fitler |h|, and the only parameter",
            "is the width (variance) of the filter.",
            "",
            "width of the filter"
          ]
        },
        {
          "cell_type": "code",
          "collapsed": false,
          "input": [
            "%%matlab",
            "mu = 4;"
          ],
          "language": "python",
          "metadata": {},
          "outputs": []
        },
        {
          "cell_type": "markdown",
          "metadata": {},
          "source": [
            "compute a Gaussian filter of width mu"
          ]
        },
        {
          "cell_type": "code",
          "collapsed": false,
          "input": [
            "%%matlab",
            "t = (-length(x)/2:length(x)/2-1)';",
            "h = exp( -(t.^2)/(2*mu^2) );",
            "h = h/sum(h(:));"
          ],
          "language": "python",
          "metadata": {},
          "outputs": []
        },
        {
          "cell_type": "markdown",
          "metadata": {},
          "source": [
            "The Fourier transform of a Gaussian discrete filter is nearly a Gaussian",
            "whose width is proportional to |1/mu|.",
            "",
            "Fourier transform of the (centered) filter"
          ]
        },
        {
          "cell_type": "code",
          "collapsed": false,
          "input": [
            "%%matlab",
            "hf = real( fft(fftshift(h)) );",
            "hf = fftshift(hf);"
          ],
          "language": "python",
          "metadata": {},
          "outputs": []
        },
        {
          "cell_type": "markdown",
          "metadata": {},
          "source": [
            "display"
          ]
        },
        {
          "cell_type": "code",
          "collapsed": false,
          "input": [
            "%%matlab",
            "clf;",
            "subplot(2,1,1);",
            "plot( t,h  ); axis('tight');",
            "title('Filter h');",
            "subplot(2,1,2);",
            "plot( t,hf  ); axis('tight');",
            "title('Fourier transform');"
          ],
          "language": "python",
          "metadata": {},
          "outputs": []
        },
        {
          "cell_type": "markdown",
          "metadata": {},
          "source": [
            "Since we use periodic boundary condition, the convolution of |x| with |h|",
            "can be computer over the Fourier domain.",
            "",
            "Fourier coefficients of the noisy signal"
          ]
        },
        {
          "cell_type": "code",
          "collapsed": false,
          "input": [
            "%%matlab",
            "xf = fft(x);"
          ],
          "language": "python",
          "metadata": {},
          "outputs": []
        },
        {
          "cell_type": "markdown",
          "metadata": {},
          "source": [
            "Fourier coefficients of the denoised signal"
          ]
        },
        {
          "cell_type": "code",
          "collapsed": false,
          "input": [
            "%%matlab",
            "xhf = xf .* fft(fftshift(h));"
          ],
          "language": "python",
          "metadata": {},
          "outputs": []
        },
        {
          "cell_type": "markdown",
          "metadata": {},
          "source": [
            "Denoised signal"
          ]
        },
        {
          "cell_type": "code",
          "collapsed": false,
          "input": [
            "%%matlab",
            "xh = real( ifft(xhf) );"
          ],
          "language": "python",
          "metadata": {},
          "outputs": []
        },
        {
          "cell_type": "markdown",
          "metadata": {},
          "source": [
            "We display the denoised signal.",
            "Although most of the noise is removed, the singularity have been blurred."
          ]
        },
        {
          "cell_type": "code",
          "collapsed": false,
          "input": [
            "%%matlab",
            "clf;",
            "subplot(2,1,1);",
            "plot( t,x  ); axis('tight');",
            "title('Noisy');",
            "subplot(2,1,2);",
            "plot( t,xh  ); axis('tight');",
            "title('Denoised');"
          ],
          "language": "python",
          "metadata": {},
          "outputs": []
        },
        {
          "cell_type": "markdown",
          "metadata": {},
          "source": [
            "We display the noisy and denoised Fourier coefficients.",
            "One can see that the denoising remove the high frequency coefficients.",
            "",
            "log of Fourier transforms"
          ]
        },
        {
          "cell_type": "code",
          "collapsed": false,
          "input": [
            "%%matlab",
            "epsilon = 1e-10;",
            "L0 = log10(epsilon+abs(fftshift(fft(x0))));",
            "L = log10(epsilon+abs(fftshift(xf)));",
            "Lh = log10(epsilon+abs(fftshift(xhf)));"
          ],
          "language": "python",
          "metadata": {},
          "outputs": []
        },
        {
          "cell_type": "markdown",
          "metadata": {},
          "source": [
            "display Fourier transforms"
          ]
        },
        {
          "cell_type": "code",
          "collapsed": false,
          "input": [
            "%%matlab",
            "clf;",
            "subplot(2,1,1);",
            "plot( t, L, '-' );",
            "axis([-length(x)/2 length(x)/2 -4 max(L)]);",
            "title('log of noisy Fourier coefs.');",
            "subplot(2,1,2);",
            "plot( t, Lh, '-' );",
            "axis([-length(x)/2 length(x)/2 -4 max(L)]);",
            "title('log of denoised Fourier coefs.');"
          ],
          "language": "python",
          "metadata": {},
          "outputs": []
        },
        {
          "cell_type": "markdown",
          "metadata": {},
          "source": [
            "It is non-trivial to select the width",
            "parameter |mu| to minimize the denoising error.",
            "It should account for both the variance of the noise and",
            "the power spectrum of the image.",
            "",
            "",
            "We display the blurring for an increasing value of |mu|."
          ]
        },
        {
          "cell_type": "code",
          "collapsed": false,
          "input": [
            "%%matlab",
            "mulist = linspace(.5,4,4);",
            "clf;",
            "for i=1:length(mulist)",
            "    mu = mulist(i);",
            "    % compute the filter   ",
            "    h = exp( -(t.^2)/(2*mu^2) );",
            "    h = h/sum(h(:));",
            "    % perform the blurring",
            "    xh = real( ifft( fft(x) .* fft(fftshift(h)) ));",
            "    subplot( 4,1,i );",
            "    plot(t, clamp(xh) ); axis('tight');",
            "    title(strcat(['\\mu=' num2str(mu)]));",
            "end"
          ],
          "language": "python",
          "metadata": {},
          "outputs": []
        },
        {
          "cell_type": "markdown",
          "metadata": {},
          "source": [
            "__Exercise 1__",
            "",
            "Try for various Gaussian variance |mu| to compute the denoising |xh|.",
            "Compute, in an oracle manner, the best variance |muopt| by computing the",
            "residual error |snr(x0,xh)|.",
            "isplay blurring for various mu",
            "ompute the error for many mu",
            "etrieve the best denoising result"
          ]
        },
        {
          "cell_type": "code",
          "collapsed": false,
          "input": [
            "%%matlab",
            "exo1()"
          ],
          "language": "python",
          "metadata": {},
          "outputs": []
        },
        {
          "cell_type": "code",
          "collapsed": false,
          "input": [
            "%%matlab",
            "%% Insert your code here."
          ],
          "language": "python",
          "metadata": {},
          "outputs": []
        },
        {
          "cell_type": "markdown",
          "metadata": {},
          "source": [
            "Display the results.",
            "",
            "compute the optimal filter"
          ]
        },
        {
          "cell_type": "code",
          "collapsed": false,
          "input": [
            "%%matlab",
            "h = exp( -(t.^2)/(2*muopt^2) );",
            "h = h/sum(h(:));"
          ],
          "language": "python",
          "metadata": {},
          "outputs": []
        },
        {
          "cell_type": "markdown",
          "metadata": {},
          "source": [
            "perform blurring"
          ]
        },
        {
          "cell_type": "code",
          "collapsed": false,
          "input": [
            "%%matlab",
            "xh = real( ifft( fft(x) .* fft(fftshift(h)) ));"
          ],
          "language": "python",
          "metadata": {},
          "outputs": []
        },
        {
          "cell_type": "markdown",
          "metadata": {},
          "source": [
            "display"
          ]
        },
        {
          "cell_type": "code",
          "collapsed": false,
          "input": [
            "%%matlab",
            "clf;",
            "subplot(2,1,1);",
            "plot(t, clamp(x)); axis('tight');",
            "title('Noisy');",
            "subplot(2,1,2);",
            "plot(t, clamp(xh)); axis('tight');",
            "title('Denoised');"
          ],
          "language": "python",
          "metadata": {},
          "outputs": []
        },
        {
          "cell_type": "markdown",
          "metadata": {},
          "source": [
            "Linear Image Denoising",
            "----------------------",
            "We denoise similarely a 2D image using a 2D Gaussian filter whose width",
            "|mu| is optimized to match the noise level and the regularity of the",
            "signal.",
            "",
            "",
            "",
            "We use a simple gaussian blur to denoise an image.",
            "",
            "we use cyclic boundary condition since it is quite faster"
          ]
        },
        {
          "cell_type": "code",
          "collapsed": false,
          "input": [
            "%%matlab",
            "options.bound = 'per';"
          ],
          "language": "python",
          "metadata": {},
          "outputs": []
        },
        {
          "cell_type": "markdown",
          "metadata": {},
          "source": [
            "number of pixel of the filter"
          ]
        },
        {
          "cell_type": "code",
          "collapsed": false,
          "input": [
            "%%matlab",
            "mu = 10;",
            "Mh = perform_blurring(M,mu,options);",
            "clf;",
            "imageplot(clamp(M), 'Noisy', 1,2,1);",
            "imageplot(clamp(Mh), 'Blurred', 1,2,2);"
          ],
          "language": "python",
          "metadata": {},
          "outputs": []
        },
        {
          "cell_type": "markdown",
          "metadata": {},
          "source": [
            "We display the blurring for an increasing value of |mu|."
          ]
        },
        {
          "cell_type": "code",
          "collapsed": false,
          "input": [
            "%%matlab",
            "mulist = linspace(3,15,6);",
            "clf;",
            "for i=1:length(mulist)",
            "    mu = mulist(i);",
            "    Mh = perform_blurring(M,mu,options);",
            "    imageplot(clamp(Mh), strcat(['\\mu=' num2str(mu)]), 2,3,i);    ",
            "end"
          ],
          "language": "python",
          "metadata": {},
          "outputs": []
        },
        {
          "cell_type": "markdown",
          "metadata": {},
          "source": [
            "__Exercise 2__",
            "",
            "Try for various Gaussian variance to compute the denoising |Mh|.",
            "Compute, in an oracle manner, the best variance |muopt| by computing the",
            "residual error |snr(M0,Mh)|.",
            "ow compute the error for many mu",
            "etrieve the best denoising result"
          ]
        },
        {
          "cell_type": "code",
          "collapsed": false,
          "input": [
            "%%matlab",
            "exo2()"
          ],
          "language": "python",
          "metadata": {},
          "outputs": []
        },
        {
          "cell_type": "code",
          "collapsed": false,
          "input": [
            "%%matlab",
            "%% Insert your code here."
          ],
          "language": "python",
          "metadata": {},
          "outputs": []
        },
        {
          "cell_type": "markdown",
          "metadata": {},
          "source": [
            "Display the results",
            "",
            "optimal filter"
          ]
        },
        {
          "cell_type": "code",
          "collapsed": false,
          "input": [
            "%%matlab",
            "Mgauss = perform_blurring(M,muopt,options);"
          ],
          "language": "python",
          "metadata": {},
          "outputs": []
        },
        {
          "cell_type": "markdown",
          "metadata": {},
          "source": [
            "display"
          ]
        },
        {
          "cell_type": "code",
          "collapsed": false,
          "input": [
            "%%matlab",
            "clf;",
            "imageplot(M, strcat(['Noisy, SNR=' num2str(snr(M0,M)) 'dB']), 1,2,1);",
            "imageplot(Mgauss, strcat(['Gaussian denoise, SNR=' num2str(snr(M0,Mgauss)) 'dB']), 1,2,2);"
          ],
          "language": "python",
          "metadata": {},
          "outputs": []
        },
        {
          "cell_type": "markdown",
          "metadata": {},
          "source": [
            "Wiener filtering",
            "----------------",
            "In a probabilistic setting, for translation invariant signal",
            "distributions, the Wiener filtering is the optimal filtering.",
            "",
            "",
            "Perform the wiener filtering",
            "",
            "FFT-based wiener filtering (using the oracle fourier coefficients)"
          ]
        },
        {
          "cell_type": "code",
          "collapsed": false,
          "input": [
            "%%matlab",
            "x0f = fft2(M0);",
            "Pxf = abs(x0f).^2; % power spectra",
            "Hf = Pxf./(Pxf + N*sigma^2); % filter fourier transform"
          ],
          "language": "python",
          "metadata": {},
          "outputs": []
        },
        {
          "cell_type": "markdown",
          "metadata": {},
          "source": [
            "compute convolution"
          ]
        },
        {
          "cell_type": "code",
          "collapsed": false,
          "input": [
            "%%matlab",
            "xf = fft2(M);",
            "Mwien = real( ifft2(xf.*Hf) );",
            "Hwien = real( fftshift( ifft2(Hf) ) );"
          ],
          "language": "python",
          "metadata": {},
          "outputs": []
        },
        {
          "cell_type": "markdown",
          "metadata": {},
          "source": [
            "display the filter"
          ]
        },
        {
          "cell_type": "code",
          "collapsed": false,
          "input": [
            "%%matlab",
            "k = 5;",
            "clf;",
            "imageplot(Hwien(N/2-k+2:N/2+k,N/2-k+2:N/2+k), 'Wiener filter (zoom)');"
          ],
          "language": "python",
          "metadata": {},
          "outputs": []
        },
        {
          "cell_type": "markdown",
          "metadata": {},
          "source": [
            "display the result",
            "",
            "display"
          ]
        },
        {
          "cell_type": "code",
          "collapsed": false,
          "input": [
            "%%matlab",
            "clf;",
            "imageplot( clamp(Mgauss), strcat(['Gaussian denoise, SNR=' num2str(snr(M0,Mgauss)) 'dB']), 1,2,1);",
            "imageplot( clamp(Mwien), strcat(['Wiener denoise, SNR=' num2str(snr(M0,Mwien)) 'dB']), 1,2,2);"
          ],
          "language": "python",
          "metadata": {},
          "outputs": []
        }
      ]
    }
  ]
}