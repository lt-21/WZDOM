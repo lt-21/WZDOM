{
 "metadata": {
  "name": "",
  "signature": "sha256:b04f3e8e007ee4580cd9a782d6817d6fa1db6dd85ff3aa0afa38f648c778ac5b"
 },
 "nbformat": 3,
 "nbformat_minor": 0,
 "worksheets": [
  {
   "cells": [
    {
     "cell_type": "markdown",
     "metadata": {},
     "source": [
      "Spherical Haar Wavelets\n",
      "=======================\n",
      "$\\newcommand{\\dotp}[2]{\\langle #1, #2 \\rangle}\n",
      "\\newcommand{\\enscond}[2]{\\lbrace #1, #2 \\rbrace}\n",
      "\\newcommand{\\pd}[2]{ \\frac{ \\partial #1}{\\partial #2} }\n",
      "\\newcommand{\\umin}[1]{\\underset{#1}{\\min}\\;}\n",
      "\\newcommand{\\umax}[1]{\\underset{#1}{\\max}\\;}\n",
      "\\newcommand{\\umin}[1]{\\underset{#1}{\\min}\\;}\n",
      "\\newcommand{\\uargmin}[1]{\\underset{#1}{argmin}\\;}\n",
      "\\newcommand{\\norm}[1]{\\|#1\\|}\n",
      "\\newcommand{\\abs}[1]{\\left|#1\\right|}\n",
      "\\newcommand{\\choice}[1]{ \\left\\{  \\begin{array}{l} #1 \\end{array} \\right. }\n",
      "\\newcommand{\\pa}[1]{\\left(#1\\right)}\n",
      "\\newcommand{\\diag}[1]{{diag}\\left( #1 \\right)}\n",
      "\\newcommand{\\qandq}{\\quad\\text{and}\\quad}\n",
      "\\newcommand{\\qwhereq}{\\quad\\text{where}\\quad}\n",
      "\\newcommand{\\qifq}{ \\quad \\text{if} \\quad }\n",
      "\\newcommand{\\qarrq}{ \\quad \\Longrightarrow \\quad }\n",
      "\\newcommand{\\ZZ}{\\mathbb{Z}}\n",
      "\\newcommand{\\CC}{\\mathbb{C}}\n",
      "\\newcommand{\\RR}{\\mathbb{R}}\n",
      "\\newcommand{\\EE}{\\mathbb{E}}\n",
      "\\newcommand{\\Zz}{\\mathcal{Z}}\n",
      "\\newcommand{\\Ww}{\\mathcal{W}}\n",
      "\\newcommand{\\Vv}{\\mathcal{V}}\n",
      "\\newcommand{\\Nn}{\\mathcal{N}}\n",
      "\\newcommand{\\NN}{\\mathcal{N}}\n",
      "\\newcommand{\\Hh}{\\mathcal{H}}\n",
      "\\newcommand{\\Bb}{\\mathcal{B}}\n",
      "\\newcommand{\\Ee}{\\mathcal{E}}\n",
      "\\newcommand{\\Cc}{\\mathcal{C}}\n",
      "\\newcommand{\\Gg}{\\mathcal{G}}\n",
      "\\newcommand{\\Ss}{\\mathcal{S}}\n",
      "\\newcommand{\\Pp}{\\mathcal{P}}\n",
      "\\newcommand{\\Ff}{\\mathcal{F}}\n",
      "\\newcommand{\\Xx}{\\mathcal{X}}\n",
      "\\newcommand{\\Mm}{\\mathcal{M}}\n",
      "\\newcommand{\\Ii}{\\mathcal{I}}\n",
      "\\newcommand{\\Dd}{\\mathcal{D}}\n",
      "\\newcommand{\\Ll}{\\mathcal{L}}\n",
      "\\newcommand{\\Tt}{\\mathcal{T}}\n",
      "\\newcommand{\\si}{\\sigma}\n",
      "\\newcommand{\\al}{\\alpha}\n",
      "\\newcommand{\\la}{\\lambda}\n",
      "\\newcommand{\\ga}{\\gamma}\n",
      "\\newcommand{\\Ga}{\\Gamma}\n",
      "\\newcommand{\\La}{\\Lambda}\n",
      "\\newcommand{\\si}{\\sigma}\n",
      "\\newcommand{\\Si}{\\Sigma}\n",
      "\\newcommand{\\be}{\\beta}\n",
      "\\newcommand{\\de}{\\delta}\n",
      "\\newcommand{\\De}{\\Delta}\n",
      "\\renewcommand{\\phi}{\\varphi}\n",
      "\\renewcommand{\\th}{\\theta}\n",
      "\\newcommand{\\om}{\\omega}\n",
      "\\newcommand{\\Om}{\\Omega}\n",
      "$"
     ]
    },
    {
     "cell_type": "markdown",
     "metadata": {},
     "source": [
      "This tour explores multiscale computation on a 3D multiresolution sphere\n",
      "using a face-based haar transform."
     ]
    },
    {
     "cell_type": "code",
     "collapsed": false,
     "input": [
      "%load_ext pymatbridge"
     ],
     "language": "python",
     "metadata": {},
     "outputs": [
      {
       "output_type": "stream",
       "stream": "stdout",
       "text": [
        "Starting MATLAB on ZMQ socket ipc:///tmp/pymatbridge\n",
        "Send 'exit' command to kill the server\n",
        ".MATLAB started and connected!"
       ]
      },
      {
       "output_type": "stream",
       "stream": "stdout",
       "text": [
        "\n"
       ]
      }
     ],
     "prompt_number": 1
    },
    {
     "cell_type": "code",
     "collapsed": false,
     "input": [
      "%%matlab\n",
      "addpath('toolbox_signal')\n",
      "addpath('toolbox_general')\n",
      "addpath('toolbox_graph')\n",
      "addpath('solutions/meshwav_4_haar_sphere')"
     ],
     "language": "python",
     "metadata": {},
     "outputs": [],
     "prompt_number": 5
    },
    {
     "cell_type": "markdown",
     "metadata": {},
     "source": [
      "Installation\n",
      "------------\n",
      "You need to download [numerical_tours](https://github.com/gpeyre/numerical-tours/archive/master.zip)\n",
      "and install the IPython [notebook](http://ipython.org/install.html) to run the code.\n",
      "\n",
      "You must also install the [python-matlab-bridge](http://arokem.github.io/python-matlab-bridge/)."
     ]
    },
    {
     "cell_type": "markdown",
     "metadata": {},
     "source": [
      "Functions Defined on Surfaces\n",
      "-----------------------------\n",
      "One can define a function on a discrete 3D mesh that assigns a value to\n",
      "each vertex. One can then perform processing of the function according to\n",
      "the geometry of the surface. Here we use a simple sphere.\n",
      "\n",
      "\n",
      "\n",
      "First compute a multiresolution sphere."
     ]
    },
    {
     "cell_type": "code",
     "collapsed": false,
     "input": [
      "%%matlab\n",
      "options.base_mesh = 'ico';\n",
      "options.relaxation = 1;\n",
      "options.keep_subdivision = 1;\n",
      "J = 7;\n",
      "[vertex,face] = compute_semiregular_sphere(J,options);\n",
      "n = size(face{end},2);"
     ],
     "language": "python",
     "metadata": {},
     "outputs": [
      {
       "ename": "RuntimeError",
       "evalue": "There was an error running the code:\n options.base_mesh = 'ico';\noptions.relaxation = 1;\noptions.keep_subdivision = 1;\nJ = 7;\n[vertex,face] = compute_semiregular_sphere(J,options);\n% n = size(face{end},2);\n-----------------------\nAre you sure Matlab is started?",
       "output_type": "pyerr",
       "traceback": [
        "\u001b[0;31m---------------------------------------------------------------------------\u001b[0m\n\u001b[0;31mRuntimeError\u001b[0m                              Traceback (most recent call last)",
        "\u001b[0;32m<ipython-input-8-2b9f76530b0b>\u001b[0m in \u001b[0;36m<module>\u001b[0;34m()\u001b[0m\n\u001b[0;32m----> 1\u001b[0;31m \u001b[0mget_ipython\u001b[0m\u001b[0;34m(\u001b[0m\u001b[0;34m)\u001b[0m\u001b[0;34m.\u001b[0m\u001b[0mrun_cell_magic\u001b[0m\u001b[0;34m(\u001b[0m\u001b[0;34m'matlab'\u001b[0m\u001b[0;34m,\u001b[0m \u001b[0;34m''\u001b[0m\u001b[0;34m,\u001b[0m \u001b[0;34m\"options.base_mesh = 'ico';\\noptions.relaxation = 1;\\noptions.keep_subdivision = 1;\\nJ = 7;\\n[vertex,face] = compute_semiregular_sphere(J,options);\\n% n = size(face{end},2);\"\u001b[0m\u001b[0;34m)\u001b[0m\u001b[0;34m\u001b[0m\u001b[0m\n\u001b[0m",
        "\u001b[0;32m/Users/gpeyre/anaconda/envs/py3k/lib/python3.3/site-packages/IPython/core/interactiveshell.py\u001b[0m in \u001b[0;36mrun_cell_magic\u001b[0;34m(self, magic_name, line, cell)\u001b[0m\n\u001b[1;32m   2160\u001b[0m             \u001b[0mmagic_arg_s\u001b[0m \u001b[0;34m=\u001b[0m \u001b[0mself\u001b[0m\u001b[0;34m.\u001b[0m\u001b[0mvar_expand\u001b[0m\u001b[0;34m(\u001b[0m\u001b[0mline\u001b[0m\u001b[0;34m,\u001b[0m \u001b[0mstack_depth\u001b[0m\u001b[0;34m)\u001b[0m\u001b[0;34m\u001b[0m\u001b[0m\n\u001b[1;32m   2161\u001b[0m             \u001b[0;32mwith\u001b[0m \u001b[0mself\u001b[0m\u001b[0;34m.\u001b[0m\u001b[0mbuiltin_trap\u001b[0m\u001b[0;34m:\u001b[0m\u001b[0;34m\u001b[0m\u001b[0m\n\u001b[0;32m-> 2162\u001b[0;31m                 \u001b[0mresult\u001b[0m \u001b[0;34m=\u001b[0m \u001b[0mfn\u001b[0m\u001b[0;34m(\u001b[0m\u001b[0mmagic_arg_s\u001b[0m\u001b[0;34m,\u001b[0m \u001b[0mcell\u001b[0m\u001b[0;34m)\u001b[0m\u001b[0;34m\u001b[0m\u001b[0m\n\u001b[0m\u001b[1;32m   2163\u001b[0m             \u001b[0;32mreturn\u001b[0m \u001b[0mresult\u001b[0m\u001b[0;34m\u001b[0m\u001b[0m\n\u001b[1;32m   2164\u001b[0m \u001b[0;34m\u001b[0m\u001b[0m\n",
        "\u001b[0;32m/Users/gpeyre/anaconda/envs/py3k/lib/python3.3/site-packages/pymatbridge/matlab_magic.py\u001b[0m in \u001b[0;36mmatlab\u001b[0;34m(self, line, cell, local_ns)\u001b[0m\n",
        "\u001b[0;32m/Users/gpeyre/anaconda/envs/py3k/lib/python3.3/site-packages/IPython/core/magic.py\u001b[0m in \u001b[0;36m<lambda>\u001b[0;34m(f, *a, **k)\u001b[0m\n\u001b[1;32m    191\u001b[0m     \u001b[0;31m# but it's overkill for just that one bit of state.\u001b[0m\u001b[0;34m\u001b[0m\u001b[0;34m\u001b[0m\u001b[0m\n\u001b[1;32m    192\u001b[0m     \u001b[0;32mdef\u001b[0m \u001b[0mmagic_deco\u001b[0m\u001b[0;34m(\u001b[0m\u001b[0marg\u001b[0m\u001b[0;34m)\u001b[0m\u001b[0;34m:\u001b[0m\u001b[0;34m\u001b[0m\u001b[0m\n\u001b[0;32m--> 193\u001b[0;31m         \u001b[0mcall\u001b[0m \u001b[0;34m=\u001b[0m \u001b[0;32mlambda\u001b[0m \u001b[0mf\u001b[0m\u001b[0;34m,\u001b[0m \u001b[0;34m*\u001b[0m\u001b[0ma\u001b[0m\u001b[0;34m,\u001b[0m \u001b[0;34m**\u001b[0m\u001b[0mk\u001b[0m\u001b[0;34m:\u001b[0m \u001b[0mf\u001b[0m\u001b[0;34m(\u001b[0m\u001b[0;34m*\u001b[0m\u001b[0ma\u001b[0m\u001b[0;34m,\u001b[0m \u001b[0;34m**\u001b[0m\u001b[0mk\u001b[0m\u001b[0;34m)\u001b[0m\u001b[0;34m\u001b[0m\u001b[0m\n\u001b[0m\u001b[1;32m    194\u001b[0m \u001b[0;34m\u001b[0m\u001b[0m\n\u001b[1;32m    195\u001b[0m         \u001b[0;32mif\u001b[0m \u001b[0mcallable\u001b[0m\u001b[0;34m(\u001b[0m\u001b[0marg\u001b[0m\u001b[0;34m)\u001b[0m\u001b[0;34m:\u001b[0m\u001b[0;34m\u001b[0m\u001b[0m\n",
        "\u001b[0;32m/Users/gpeyre/anaconda/envs/py3k/lib/python3.3/site-packages/pymatbridge/matlab_magic.py\u001b[0m in \u001b[0;36mmatlab\u001b[0;34m(self, line, cell, local_ns)\u001b[0m\n\u001b[1;32m    215\u001b[0m             \u001b[0me_s\u001b[0m \u001b[0;34m+=\u001b[0m \u001b[0;34m\"\\n-----------------------\"\u001b[0m\u001b[0;34m\u001b[0m\u001b[0m\n\u001b[1;32m    216\u001b[0m             \u001b[0me_s\u001b[0m \u001b[0;34m+=\u001b[0m \u001b[0;34m\"\\nAre you sure Matlab is started?\"\u001b[0m\u001b[0;34m\u001b[0m\u001b[0m\n\u001b[0;32m--> 217\u001b[0;31m             \u001b[0;32mraise\u001b[0m \u001b[0mRuntimeError\u001b[0m\u001b[0;34m(\u001b[0m\u001b[0me_s\u001b[0m\u001b[0;34m)\u001b[0m\u001b[0;34m\u001b[0m\u001b[0m\n\u001b[0m\u001b[1;32m    218\u001b[0m \u001b[0;34m\u001b[0m\u001b[0m\n\u001b[1;32m    219\u001b[0m \u001b[0;34m\u001b[0m\u001b[0m\n",
        "\u001b[0;31mRuntimeError\u001b[0m: There was an error running the code:\n options.base_mesh = 'ico';\noptions.relaxation = 1;\noptions.keep_subdivision = 1;\nJ = 7;\n[vertex,face] = compute_semiregular_sphere(J,options);\n% n = size(face{end},2);\n-----------------------\nAre you sure Matlab is started?"
       ]
      }
     ],
     "prompt_number": 8
    },
    {
     "cell_type": "markdown",
     "metadata": {},
     "source": [
      "Display two examples of sphere."
     ]
    },
    {
     "cell_type": "code",
     "collapsed": false,
     "input": [
      "%%matlab\n",
      "clf;\n",
      "for j=[1 2 3 4]\n",
      "    subplot(2, 2, j);\n",
      "    plot_mesh(vertex{j}, face{j});\n",
      "    shading faceted;\n",
      "end"
     ],
     "language": "python",
     "metadata": {},
     "outputs": []
    },
    {
     "cell_type": "markdown",
     "metadata": {},
     "source": [
      "Comput the center of each face."
     ]
    },
    {
     "cell_type": "code",
     "collapsed": false,
     "input": [
      "%%matlab\n",
      "x = [];\n",
      "for i=1:3\n",
      "    v = vertex{end}(i,:);\n",
      "    x(i,:) = mean(v(face{end}));\n",
      "end"
     ],
     "language": "python",
     "metadata": {},
     "outputs": []
    },
    {
     "cell_type": "markdown",
     "metadata": {},
     "source": [
      "Load an image."
     ]
    },
    {
     "cell_type": "code",
     "collapsed": false,
     "input": [
      "%%matlab\n",
      "name = 'lena';"
     ],
     "language": "python",
     "metadata": {},
     "outputs": []
    },
    {
     "cell_type": "code",
     "collapsed": false,
     "input": [
      "%%matlab\n",
      "M = rescale( load_image(name, 512) );"
     ],
     "language": "python",
     "metadata": {},
     "outputs": []
    },
    {
     "cell_type": "markdown",
     "metadata": {},
     "source": [
      "Display it."
     ]
    },
    {
     "cell_type": "code",
     "collapsed": false,
     "input": [
      "%%matlab\n",
      "clf;\n",
      "imageplot(crop(M));"
     ],
     "language": "python",
     "metadata": {},
     "outputs": []
    },
    {
     "cell_type": "markdown",
     "metadata": {},
     "source": [
      "Load a function on the sphere.\n",
      "Use the center of each face to sample the function."
     ]
    },
    {
     "cell_type": "code",
     "collapsed": false,
     "input": [
      "%%matlab\n",
      "f = rescale( load_spherical_function(M, x, options) );"
     ],
     "language": "python",
     "metadata": {},
     "outputs": []
    },
    {
     "cell_type": "markdown",
     "metadata": {},
     "source": [
      "Display the function on the sphere."
     ]
    },
    {
     "cell_type": "code",
     "collapsed": false,
     "input": [
      "%%matlab\n",
      "vv = [125,-15];"
     ],
     "language": "python",
     "metadata": {},
     "outputs": []
    },
    {
     "cell_type": "code",
     "collapsed": false,
     "input": [
      "%%matlab\n",
      "options.face_vertex_color = f;\n",
      "clf;\n",
      "plot_mesh(vertex{end}, face{end}, options);\n",
      "view(vv);\n",
      "colormap gray(256);\n",
      "lighting none;"
     ],
     "language": "python",
     "metadata": {},
     "outputs": []
    },
    {
     "cell_type": "markdown",
     "metadata": {},
     "source": [
      "Multiscale Low Pass\n",
      "-------------------\n",
      "One can compute low pass approximation by iteratively averaging over 4\n",
      "neighboring triangles.\n",
      "\n",
      "\n",
      "Perform one low pass filtering."
     ]
    },
    {
     "cell_type": "code",
     "collapsed": false,
     "input": [
      "%%matlab\n",
      "f1 = mean( reshape(f, [length(f)/4 4]), 2);"
     ],
     "language": "python",
     "metadata": {},
     "outputs": []
    },
    {
     "cell_type": "markdown",
     "metadata": {},
     "source": [
      "Display."
     ]
    },
    {
     "cell_type": "code",
     "collapsed": false,
     "input": [
      "%%matlab\n",
      "clf;\n",
      "options.face_vertex_color = f1;\n",
      "plot_mesh(vertex{end-1}, face{end-1}, options);\n",
      "view(vv);\n",
      "lighting none;"
     ],
     "language": "python",
     "metadata": {},
     "outputs": []
    },
    {
     "cell_type": "markdown",
     "metadata": {},
     "source": [
      "__Exercise 1__\n",
      "\n",
      "Compute the successive low pass approximations."
     ]
    },
    {
     "cell_type": "code",
     "collapsed": false,
     "input": [
      "%%matlab\n",
      "exo1()"
     ],
     "language": "python",
     "metadata": {},
     "outputs": []
    },
    {
     "cell_type": "code",
     "collapsed": false,
     "input": [
      "%%matlab\n",
      "%% Insert your code here."
     ],
     "language": "python",
     "metadata": {},
     "outputs": []
    },
    {
     "cell_type": "markdown",
     "metadata": {},
     "source": [
      "Spherical Haar Transform\n",
      "------------------------\n",
      "One can compute a wavelet transform by extracting, at each scale, 3\n",
      "orthogonal wavelet coefficient to represent the orthogonal complement\n",
      "between the successive resolutions.\n",
      "\n",
      "\n",
      "Precompute the local wavelet matrix, which contains the local vector and\n",
      "three orthognal detail directions."
     ]
    },
    {
     "cell_type": "code",
     "collapsed": false,
     "input": [
      "%%matlab\n",
      "U = randn(4);\n",
      "U(:,1) = 1;\n",
      "[U,R] = qr(U);"
     ],
     "language": "python",
     "metadata": {},
     "outputs": []
    },
    {
     "cell_type": "markdown",
     "metadata": {},
     "source": [
      "Initialize the forward transform."
     ]
    },
    {
     "cell_type": "code",
     "collapsed": false,
     "input": [
      "%%matlab\n",
      "fw = f;\n",
      "nj = length(f);"
     ],
     "language": "python",
     "metadata": {},
     "outputs": []
    },
    {
     "cell_type": "markdown",
     "metadata": {},
     "source": [
      "Extract the low pass component and apply the matrix U"
     ]
    },
    {
     "cell_type": "code",
     "collapsed": false,
     "input": [
      "%%matlab\n",
      "fj = fw(1:nj);\n",
      "fj = reshape(fj, [nj/4 4]);\n",
      "fj = fj*U;"
     ],
     "language": "python",
     "metadata": {},
     "outputs": []
    },
    {
     "cell_type": "markdown",
     "metadata": {},
     "source": [
      "Store back the coefficients."
     ]
    },
    {
     "cell_type": "code",
     "collapsed": false,
     "input": [
      "%%matlab\n",
      "fw(1:nj) = fj(:);\n",
      "nj = nj/4;"
     ],
     "language": "python",
     "metadata": {},
     "outputs": []
    },
    {
     "cell_type": "markdown",
     "metadata": {},
     "source": [
      "__Exercise 2__\n",
      "\n",
      "Compute the full wavelet transform, and check for orthogonality\n",
      "(conservation of energy).\n",
      "heck for orthogonality."
     ]
    },
    {
     "cell_type": "code",
     "collapsed": false,
     "input": [
      "%%matlab\n",
      "exo2()"
     ],
     "language": "python",
     "metadata": {},
     "outputs": []
    },
    {
     "cell_type": "code",
     "collapsed": false,
     "input": [
      "%%matlab\n",
      "%% Insert your code here."
     ],
     "language": "python",
     "metadata": {},
     "outputs": []
    },
    {
     "cell_type": "markdown",
     "metadata": {},
     "source": [
      "Display the coefficients \"in place\"."
     ]
    },
    {
     "cell_type": "code",
     "collapsed": false,
     "input": [
      "%%matlab\n",
      "clf;\n",
      "options.face_vertex_color = clamp(fw,-2,2);\n",
      "plot_mesh(vertex{end}, face{end}, options);\n",
      "view(vv);\n",
      "colormap gray(256);\n",
      "lighting none;"
     ],
     "language": "python",
     "metadata": {},
     "outputs": []
    },
    {
     "cell_type": "markdown",
     "metadata": {},
     "source": [
      "Display the decay of the coefficients."
     ]
    },
    {
     "cell_type": "code",
     "collapsed": false,
     "input": [
      "%%matlab\n",
      "clf;\n",
      "plot(fw);\n",
      "axis([1 n -5 5]);"
     ],
     "language": "python",
     "metadata": {},
     "outputs": []
    },
    {
     "cell_type": "markdown",
     "metadata": {},
     "source": [
      "__Exercise 3__\n",
      "\n",
      "Implement the backward spherical Haar transform (replace U by U' to perform the reconstruction),\n",
      "and check for perfect reconstruction."
     ]
    },
    {
     "cell_type": "code",
     "collapsed": false,
     "input": [
      "%%matlab\n",
      "exo3()"
     ],
     "language": "python",
     "metadata": {},
     "outputs": []
    },
    {
     "cell_type": "code",
     "collapsed": false,
     "input": [
      "%%matlab\n",
      "%% Insert your code here."
     ],
     "language": "python",
     "metadata": {},
     "outputs": []
    },
    {
     "cell_type": "code",
     "collapsed": false,
     "input": [
      "%%matlab\n",
      "clf;\n",
      "options.face_vertex_color = clamp(f1);\n",
      "plot_mesh(vertex{end}, face{end}, options);\n",
      "view(vv);\n",
      "colormap gray(256);\n",
      "lighting none;"
     ],
     "language": "python",
     "metadata": {},
     "outputs": []
    },
    {
     "cell_type": "markdown",
     "metadata": {},
     "source": [
      "__Exercise 4__\n",
      "\n",
      "Perform Haar wavelet approximation with only 10% of the coefficients.\n",
      "orward transform\n",
      "hresholding\n",
      "ackward transform\n",
      "isplay"
     ]
    },
    {
     "cell_type": "code",
     "collapsed": false,
     "input": [
      "%%matlab\n",
      "exo4()"
     ],
     "language": "python",
     "metadata": {},
     "outputs": []
    },
    {
     "cell_type": "code",
     "collapsed": false,
     "input": [
      "%%matlab\n",
      "%% Insert your code here."
     ],
     "language": "python",
     "metadata": {},
     "outputs": []
    },
    {
     "cell_type": "markdown",
     "metadata": {},
     "source": [
      "__Exercise 5__\n",
      "\n",
      "Compare with the traditional 2D Haar approximation of |M|."
     ]
    },
    {
     "cell_type": "code",
     "collapsed": false,
     "input": [
      "%%matlab\n",
      "exo5()"
     ],
     "language": "python",
     "metadata": {},
     "outputs": []
    },
    {
     "cell_type": "code",
     "collapsed": false,
     "input": [
      "%%matlab\n",
      "%% Insert your code here."
     ],
     "language": "python",
     "metadata": {},
     "outputs": []
    },
    {
     "cell_type": "markdown",
     "metadata": {},
     "source": [
      "__Exercise 6__\n",
      "\n",
      "Implement Spherical denoising using the Haar transform. Compare it with\n",
      "vertex-based lifting scheme denoising."
     ]
    },
    {
     "cell_type": "code",
     "collapsed": false,
     "input": [
      "%%matlab\n",
      "exo6()"
     ],
     "language": "python",
     "metadata": {},
     "outputs": []
    },
    {
     "cell_type": "code",
     "collapsed": false,
     "input": [
      "%%matlab\n",
      "%% Insert your code here."
     ],
     "language": "python",
     "metadata": {},
     "outputs": []
    }
   ],
   "metadata": {}
  }
 ]
}